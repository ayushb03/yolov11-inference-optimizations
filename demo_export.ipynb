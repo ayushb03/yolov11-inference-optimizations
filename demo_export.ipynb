{
 "cells": [
  {
   "cell_type": "markdown",
   "metadata": {},
   "source": [
    "### HARDWARE OPTIMIZATIONS"
   ]
  },
  {
   "cell_type": "markdown",
   "metadata": {},
   "source": [
    "1. TensorRT\n",
    "2. ONNX\n",
    "3. OpenVINO"
   ]
  },
  {
   "cell_type": "markdown",
   "metadata": {},
   "source": [
    "### 1. TensorRT"
   ]
  },
  {
   "cell_type": "markdown",
   "metadata": {},
   "source": [
    "##### export config"
   ]
  },
  {
   "cell_type": "code",
   "execution_count": null,
   "metadata": {},
   "outputs": [],
   "source": [
    "from ultralytics import YOLO\n",
    "\n",
    "model = YOLO(\"yolov8n.pt\")\n",
    "\n",
    "# TensorRT FP32\n",
    "out = model.export(format=\"engine\", imgsz=640, dynamic=True, verbose=False, batch=8, workspace=2)\n",
    "\n",
    "# TensorRT FP16\n",
    "out = model.export(format=\"engine\", imgsz=640, dynamic=True, verbose=False, batch=8, workspace=2, half=True)\n",
    "\n",
    "# TensorRT INT8 with calibration `data` (i.e. COCO, ImageNet, or DOTAv1 for appropriate model task)\n",
    "out = model.export(\n",
    "    format=\"engine\", imgsz=640, dynamic=True, verbose=False, batch=8, workspace=2, int8=True, data=\"coco8.yaml\"\n",
    ")"
   ]
  },
  {
   "cell_type": "markdown",
   "metadata": {},
   "source": [
    "##### inference"
   ]
  },
  {
   "cell_type": "code",
   "execution_count": null,
   "metadata": {},
   "outputs": [],
   "source": [
    "import cv2\n",
    "\n",
    "from ultralytics import YOLO\n",
    "\n",
    "model = YOLO(\"yolov8n.engine\")\n",
    "img = cv2.imread(\"path/to/image.jpg\")\n",
    "\n",
    "for _ in range(100):\n",
    "    result = model.predict(\n",
    "        [img] * 8,  # batch=8 of the same image\n",
    "        verbose=False,\n",
    "        device=\"cuda\",\n",
    "    )"
   ]
  },
  {
   "cell_type": "markdown",
   "metadata": {},
   "source": [
    "##### validation"
   ]
  },
  {
   "cell_type": "code",
   "execution_count": null,
   "metadata": {},
   "outputs": [],
   "source": [
    "from ultralytics import YOLO\n",
    "\n",
    "model = YOLO(\"yolov8n.engine\")\n",
    "results = model.val(\n",
    "    data=\"data.yaml\",  # COCO, ImageNet, or DOTAv1 for appropriate model task\n",
    "    batch=1,\n",
    "    imgsz=640,\n",
    "    verbose=False,\n",
    "    device=\"cuda\",\n",
    ")"
   ]
  },
  {
   "cell_type": "markdown",
   "metadata": {},
   "source": [
    "### 2. ONNX Runtime"
   ]
  },
  {
   "cell_type": "code",
   "execution_count": 2,
   "metadata": {},
   "outputs": [],
   "source": [
    "model_path = \"yolo11/yolov11_5_x_tuned.pt\""
   ]
  },
  {
   "cell_type": "code",
   "execution_count": 3,
   "metadata": {},
   "outputs": [
    {
     "name": "stdout",
     "output_type": "stream",
     "text": [
      "Ultralytics 8.3.59 🚀 Python-3.11.11 torch-2.5.1 CPU (Apple M3 Pro)\n",
      "YOLO11x summary (fused): 464 layers, 56,839,729 parameters, 0 gradients, 194.5 GFLOPs\n",
      "\n",
      "\u001b[34m\u001b[1mPyTorch:\u001b[0m starting from 'yolo11/yolov11_5_x_tuned.pt' with input shape (1, 3, 640, 640) BCHW and output shape(s) (1, 15, 8400) (109.1 MB)\n",
      "\n",
      "\u001b[34m\u001b[1mONNX:\u001b[0m starting export with onnx 1.17.0 opset 19...\n",
      "\u001b[34m\u001b[1mONNX:\u001b[0m slimming with onnxslim 0.1.47...\n",
      "\u001b[34m\u001b[1mONNX:\u001b[0m export success ✅ 2.2s, saved as 'yolo11/yolov11_5_x_tuned.onnx' (217.1 MB)\n",
      "\n",
      "Export complete (3.4s)\n",
      "Results saved to \u001b[1m/Users/ayush/Documents/projects/yolov8-inference-optimization/yolo11\u001b[0m\n",
      "Predict:         yolo predict task=detect model=yolo11/yolov11_5_x_tuned.onnx imgsz=640  \n",
      "Validate:        yolo val task=detect model=yolo11/yolov11_5_x_tuned.onnx imgsz=640 data=./doclaynet.yaml  \n",
      "Visualize:       https://netron.app\n"
     ]
    },
    {
     "data": {
      "text/plain": [
       "'yolo11/yolov11_5_x_tuned.onnx'"
      ]
     },
     "execution_count": 3,
     "metadata": {},
     "output_type": "execute_result"
    }
   ],
   "source": [
    "from ultralytics import YOLO\n",
    "\n",
    "model = YOLO(model_path)\n",
    "\n",
    "model.export(format=\"onnx\")"
   ]
  },
  {
   "cell_type": "code",
   "execution_count": 4,
   "metadata": {},
   "outputs": [],
   "source": [
    "import onnx\n",
    "\n",
    "onnx_model_path = \"yolo11/yolov11_5_x_tuned.onnx\"\n",
    "\n",
    "onnx_model = onnx.load(onnx_model_path)\n",
    "onnx.checker.check_model(onnx_model)\n"
   ]
  }
 ],
 "metadata": {
  "kernelspec": {
   "display_name": ".venv",
   "language": "python",
   "name": "python3"
  },
  "language_info": {
   "codemirror_mode": {
    "name": "ipython",
    "version": 3
   },
   "file_extension": ".py",
   "mimetype": "text/x-python",
   "name": "python",
   "nbconvert_exporter": "python",
   "pygments_lexer": "ipython3",
   "version": "3.11.11"
  }
 },
 "nbformat": 4,
 "nbformat_minor": 2
}
