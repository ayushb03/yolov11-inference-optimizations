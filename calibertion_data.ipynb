{
 "cells": [
  {
   "cell_type": "code",
   "execution_count": null,
   "metadata": {},
   "outputs": [],
   "source": [
    "import os\n",
    "import random\n",
    "import shutil\n",
    "\n",
    "def subset_dataset(image_dir, label_dir, output_image_dir, output_label_dir, num_images):\n",
    "    os.makedirs(output_image_dir, exist_ok=True)\n",
    "    os.makedirs(output_label_dir, exist_ok=True)\n",
    "\n",
    "    # Get list of all images in the directory\n",
    "    all_images = [f for f in os.listdir(image_dir) if f.endswith(('.jpg', '.png', '.jpeg'))]\n",
    "\n",
    "    # Randomly sample 600 images\n",
    "    selected_images = random.sample(all_images, num_images)\n",
    "\n",
    "    for image in selected_images:\n",
    "        # Copy image\n",
    "        shutil.copy(os.path.join(image_dir, image), os.path.join(output_image_dir, image))\n",
    "\n",
    "        # Copy corresponding label\n",
    "        label_file = os.path.splitext(image)[0] + \".txt\"\n",
    "        shutil.copy(os.path.join(label_dir, label_file), os.path.join(output_label_dir, label_file))\n",
    "\n",
    "    print(f\"Selected {num_images} images and their labels.\")\n",
    "\n",
    "# Example usage\n",
    "subset_dataset(\n",
    "    image_dir=\"/path/to/DocLayNet/train/images\",\n",
    "    label_dir=\"/path/to/DocLayNet/train/labels\",\n",
    "    output_image_dir=\"/path/to/DocLayNet/train_subset/images\",\n",
    "    output_label_dir=\"/path/to/DocLayNet/train_subset/labels\",\n",
    "    num_images=600\n",
    ")\n"
   ]
  }
 ],
 "metadata": {
  "kernelspec": {
   "display_name": ".venv",
   "language": "python",
   "name": "python3"
  },
  "language_info": {
   "name": "python",
   "version": "3.11.11"
  }
 },
 "nbformat": 4,
 "nbformat_minor": 2
}
